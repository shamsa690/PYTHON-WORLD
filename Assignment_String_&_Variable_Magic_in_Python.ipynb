{
  "nbformat": 4,
  "nbformat_minor": 0,
  "metadata": {
    "colab": {
      "provenance": []
    },
    "kernelspec": {
      "name": "python3",
      "display_name": "Python 3"
    },
    "language_info": {
      "name": "python"
    }
  },
  "cells": [
    {
      "cell_type": "code",
      "execution_count": 2,
      "metadata": {
        "colab": {
          "base_uri": "https://localhost:8080/"
        },
        "id": "G7r9bsdLj_kK",
        "outputId": "5e829776-3a84-4924-f041-26156b13e644"
      },
      "outputs": [
        {
          "output_type": "stream",
          "name": "stdout",
          "text": [
            "Hi, I'm Shamsa Kanwal , 17 old , from Lahore.\n"
          ]
        }
      ],
      "source": [
        "# Task:1 intro myself:\n",
        "\n",
        "name = \"Shamsa Kanwal\"\n",
        "age = 17\n",
        "city = \"Lahore\"\n",
        "\n",
        "print(f\"Hi, I'm {name} , {age} old , from {city}.\")"
      ]
    },
    {
      "cell_type": "code",
      "source": [
        "# intro myself\n",
        "\n",
        "name1 = \"I'm Shamsa Kanwal , \"\n",
        "age1 = \"17 Years old , \"\n",
        "city1 = \"from Lahore!\"\n",
        "\n",
        "print(\"Hi, \", name1 + age1 + city1)"
      ],
      "metadata": {
        "colab": {
          "base_uri": "https://localhost:8080/"
        },
        "id": "P_HV2aW5kC86",
        "outputId": "d4fb3a73-dbd3-42dc-94bc-a1c005f414dd"
      },
      "execution_count": 5,
      "outputs": [
        {
          "output_type": "stream",
          "name": "stdout",
          "text": [
            "Hi,  I'm Shamsa Kanwal , 17 Years old , from Lahore!\n"
          ]
        }
      ]
    },
    {
      "cell_type": "code",
      "source": [
        "# Task 2: Favorite Quote\n",
        "quote = \"Albert Einstein once said, 'A person who never made a mistake never tried anything new.'\"\n",
        "\n",
        "print(f\"Once of my favorite quotes is: {quote}\")"
      ],
      "metadata": {
        "colab": {
          "base_uri": "https://localhost:8080/"
        },
        "id": "jKTwMsQ3m5mx",
        "outputId": "215e8ca0-129a-40fe-82fa-d324c20cf8e7"
      },
      "execution_count": 6,
      "outputs": [
        {
          "output_type": "stream",
          "name": "stdout",
          "text": [
            "Once of my favorite quotes is: Albert Einstein once said, 'A person who never made a mistake never tried anything new.'\n"
          ]
        }
      ]
    },
    {
      "cell_type": "code",
      "source": [
        "# Task 3: String Functions\n",
        "\n",
        "quote = \"Albert Einstein once said, 'A person who never made a mistake never tried anything new.'\"\n",
        "\n",
        "print(quote.upper())\n",
        "print(len(quote))\n",
        "print(quote.replace('Albert Einstein', 'Shamsa Kanwal'))"
      ],
      "metadata": {
        "colab": {
          "base_uri": "https://localhost:8080/"
        },
        "id": "lEKO1p7anVIq",
        "outputId": "33296c60-ffea-492c-c4db-139741b13b95"
      },
      "execution_count": 7,
      "outputs": [
        {
          "output_type": "stream",
          "name": "stdout",
          "text": [
            "ALBERT EINSTEIN ONCE SAID, 'A PERSON WHO NEVER MADE A MISTAKE NEVER TRIED ANYTHING NEW.'\n",
            "88\n",
            "Shamsa Kanwal once said, 'A person who never made a mistake never tried anything new.'\n"
          ]
        }
      ]
    },
    {
      "cell_type": "code",
      "source": [
        "# Task 4: Fun Challenge!\n",
        "\n",
        "name = \"Shamsa Kanwal\"\n",
        "age = \"17\"\n",
        "city = \"Lahore\"\n",
        "\n",
        "print(name[:3]+ age + city[:2])"
      ],
      "metadata": {
        "colab": {
          "base_uri": "https://localhost:8080/"
        },
        "id": "_Es-AEnfo97v",
        "outputId": "86cc6137-ffc9-44ca-f443-a17da7b54cc0"
      },
      "execution_count": 9,
      "outputs": [
        {
          "output_type": "stream",
          "name": "stdout",
          "text": [
            "Sha17La\n"
          ]
        }
      ]
    },
    {
      "cell_type": "code",
      "source": [
        "# Task 4: Fun Challenge!\n",
        "\n",
        "name = \"Shamsa Kanwal\"\n",
        "age = \"17\"\n",
        "city = \"Lahore\"\n",
        "\n",
        "print(f\"{name[:3]}{age}{city[:2]}\")"
      ],
      "metadata": {
        "colab": {
          "base_uri": "https://localhost:8080/"
        },
        "id": "BV9SbNf8qFV3",
        "outputId": "87da714b-ac8e-4de8-feab-99a052bcb30c"
      },
      "execution_count": 12,
      "outputs": [
        {
          "output_type": "stream",
          "name": "stdout",
          "text": [
            "Sha17La\n"
          ]
        }
      ]
    }
  ]
}